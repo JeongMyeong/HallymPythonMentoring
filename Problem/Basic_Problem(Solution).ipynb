{
 "cells": [
  {
   "cell_type": "markdown",
   "metadata": {},
   "source": [
    "# 20190513 Python Mentoring\n",
    "# *<Python 확인문제 20 문항>*"
   ]
  },
  {
   "cell_type": "markdown",
   "metadata": {},
   "source": [
    "### **1. Hello World 문자열을 출력하는 코드를 작성하시오.**"
   ]
  },
  {
   "cell_type": "code",
   "execution_count": 1,
   "metadata": {},
   "outputs": [
    {
     "name": "stdout",
     "output_type": "stream",
     "text": [
      "Hello World\n"
     ]
    }
   ],
   "source": [
    "print(\"Hello World\")"
   ]
  },
  {
   "cell_type": "markdown",
   "metadata": {},
   "source": [
    "### **2. 아래 문장을 그대로 출력하는 코드를 작성하시오.(큰따옴표도 출력을 해야함)**\n",
    "- '최정명'이 말했다. \"오늘 수업은 문제를 풀거야\""
   ]
  },
  {
   "cell_type": "code",
   "execution_count": 3,
   "metadata": {},
   "outputs": [
    {
     "name": "stdout",
     "output_type": "stream",
     "text": [
      "'최정명'이 말했다. \"오늘 수업은 문제를 풀거야\"\n"
     ]
    }
   ],
   "source": [
    "print('\\'최정명\\'이 말했다. \"오늘 수업은 문제를 풀거야\"')"
   ]
  },
  {
   "cell_type": "markdown",
   "metadata": {},
   "source": [
    "### 3. 아래 문자열의 길이를 구하는 코드를 작성하시오.\n",
    "- sss = \"awerjweriewjrwoeiorjweior\""
   ]
  },
  {
   "cell_type": "code",
   "execution_count": 4,
   "metadata": {},
   "outputs": [
    {
     "name": "stdout",
     "output_type": "stream",
     "text": [
      "25\n"
     ]
    }
   ],
   "source": [
    "sss = \"awerjweriewjrwoeiorjweior\"\n",
    "print(len(sss))"
   ]
  },
  {
   "cell_type": "markdown",
   "metadata": {},
   "source": [
    "### 4. 밑 코드의 실행결과를 예상하시오.\n"
   ]
  },
  {
   "cell_type": "code",
   "execution_count": 5,
   "metadata": {},
   "outputs": [
    {
     "name": "stdout",
     "output_type": "stream",
     "text": [
      "12\n"
     ]
    }
   ],
   "source": [
    "a = \"1\"  \n",
    "b = \"2\"  \n",
    "print(a+b)"
   ]
  },
  {
   "cell_type": "markdown",
   "metadata": {},
   "source": [
    "### 5. 화면에 '='를 80개 출력하는 코드를 작성하시오"
   ]
  },
  {
   "cell_type": "code",
   "execution_count": 6,
   "metadata": {},
   "outputs": [
    {
     "name": "stdout",
     "output_type": "stream",
     "text": [
      "================================================================================\n"
     ]
    }
   ],
   "source": [
    "print(\"=\"*80)\n"
   ]
  },
  {
   "cell_type": "markdown",
   "metadata": {},
   "source": [
    "### 6. 문자열 '1004'를 정수형으로 변환하는 코드를 작성하시오.\n",
    "num='1004'"
   ]
  },
  {
   "cell_type": "code",
   "execution_count": 7,
   "metadata": {
    "scrolled": true
   },
   "outputs": [
    {
     "name": "stdout",
     "output_type": "stream",
     "text": [
      "=========변환 전 =======\n",
      "<class 'int'>\n",
      "1008\n"
     ]
    }
   ],
   "source": [
    "num = \"1004\"\n",
    "# print(type(num))\n",
    "# print(num+4)\n",
    "num = int(num)\n",
    "print(\"=========변환 전 =======\")\n",
    "print(type(num))\n",
    "print(num+4)"
   ]
  },
  {
   "cell_type": "markdown",
   "metadata": {},
   "source": [
    "### 7. 아래 코드의 실행 결과를 예상하시오(Hint 오류인지 아닌지 부터 따질것)\n"
   ]
  },
  {
   "cell_type": "code",
   "execution_count": 8,
   "metadata": {},
   "outputs": [
    {
     "ename": "TypeError",
     "evalue": "'str' object does not support item assignment",
     "output_type": "error",
     "traceback": [
      "\u001b[0;31m---------------------------------------------------------------------------\u001b[0m",
      "\u001b[0;31mTypeError\u001b[0m                                 Traceback (most recent call last)",
      "\u001b[0;32m<ipython-input-8-b1a24ec35b11>\u001b[0m in \u001b[0;36m<module>\u001b[0;34m\u001b[0m\n\u001b[1;32m      1\u001b[0m \u001b[0msss\u001b[0m \u001b[0;34m=\u001b[0m \u001b[0;34m'python'\u001b[0m\u001b[0;34m\u001b[0m\u001b[0;34m\u001b[0m\u001b[0m\n\u001b[0;32m----> 2\u001b[0;31m \u001b[0msss\u001b[0m\u001b[0;34m[\u001b[0m\u001b[0;36m0\u001b[0m\u001b[0;34m]\u001b[0m \u001b[0;34m=\u001b[0m \u001b[0;34m'P'\u001b[0m\u001b[0;34m\u001b[0m\u001b[0;34m\u001b[0m\u001b[0m\n\u001b[0m\u001b[1;32m      3\u001b[0m \u001b[0mprint\u001b[0m\u001b[0;34m(\u001b[0m\u001b[0msss\u001b[0m\u001b[0;34m)\u001b[0m\u001b[0;34m\u001b[0m\u001b[0;34m\u001b[0m\u001b[0m\n",
      "\u001b[0;31mTypeError\u001b[0m: 'str' object does not support item assignment"
     ]
    }
   ],
   "source": [
    "sss = 'python'  \n",
    "sss[0] = 'P'  \n",
    "print(sss)"
   ]
  },
  {
   "cell_type": "code",
   "execution_count": null,
   "metadata": {},
   "outputs": [],
   "source": [
    "\n"
   ]
  },
  {
   "cell_type": "markdown",
   "metadata": {},
   "source": [
    "### 8. '닥터스트레인지', '아이언맨', '캡틴아메리카' 를 리스트에 담는 코드를 작성하시오."
   ]
  },
  {
   "cell_type": "code",
   "execution_count": 9,
   "metadata": {},
   "outputs": [],
   "source": [
    "movies = ['닥터스트레인지', '아이언맨', '캡틴아메리카']\n"
   ]
  },
  {
   "cell_type": "code",
   "execution_count": 10,
   "metadata": {},
   "outputs": [
    {
     "name": "stdout",
     "output_type": "stream",
     "text": [
      "<class 'list'>\n",
      "['닥터스트레인지', '아이언맨', '캡틴아메리카']\n"
     ]
    }
   ],
   "source": [
    "print(type(movies))\n",
    "print(movies)"
   ]
  },
  {
   "cell_type": "markdown",
   "metadata": {},
   "source": [
    "### 9. 위 리스트에 '캡틴마블' 을 추가하는 코드를 작성하시오."
   ]
  },
  {
   "cell_type": "code",
   "execution_count": 11,
   "metadata": {},
   "outputs": [],
   "source": [
    "movies.append(\"캡틴마블\")\n"
   ]
  },
  {
   "cell_type": "code",
   "execution_count": 12,
   "metadata": {},
   "outputs": [
    {
     "name": "stdout",
     "output_type": "stream",
     "text": [
      "['닥터스트레인지', '아이언맨', '캡틴아메리카', '캡틴마블']\n"
     ]
    }
   ],
   "source": [
    "print(movies)"
   ]
  },
  {
   "cell_type": "markdown",
   "metadata": {},
   "source": [
    "### 10. 밑의 리스트에서 합, 최댓값, 최솟값을 출력하는 코드를 작성하시오.  \n",
    "- hint : sum(), min(), max() 함수를 이용  \n",
    "\n",
    "nums = [2,3,4,1,100,94,-5,10]"
   ]
  },
  {
   "cell_type": "code",
   "execution_count": 13,
   "metadata": {},
   "outputs": [
    {
     "name": "stdout",
     "output_type": "stream",
     "text": [
      "209\n",
      "-5\n",
      "100\n"
     ]
    }
   ],
   "source": [
    "nums = [2,3,4,1,100,94,-5,10]\n",
    "print(sum(nums))\n",
    "print(min(nums))\n",
    "print(max(nums))"
   ]
  },
  {
   "cell_type": "markdown",
   "metadata": {},
   "source": [
    "### 11. 다음 리스트에서 숫자 정보만 출력하는 코드를 작성하시오.  \n",
    "- hint : 리스트 슬라이싱  \n",
    "\n",
    "li = [\"최정명\", 1,2,3,4,5,\"파이썬\"]"
   ]
  },
  {
   "cell_type": "code",
   "execution_count": 14,
   "metadata": {},
   "outputs": [
    {
     "name": "stdout",
     "output_type": "stream",
     "text": [
      "[1, 2, 3, 4, 5]\n"
     ]
    }
   ],
   "source": [
    "li = [\"최정명\", 1,2,3,4,5,\"파이썬\"]\n",
    "print(li[1:6])"
   ]
  },
  {
   "cell_type": "markdown",
   "metadata": {},
   "source": [
    "### 12. 비어있는 리스트를 선언하는 코드를 작성하시오"
   ]
  },
  {
   "cell_type": "code",
   "execution_count": 15,
   "metadata": {},
   "outputs": [
    {
     "name": "stdout",
     "output_type": "stream",
     "text": [
      "<class 'list'>\n",
      "[]\n",
      "['벚꽃']\n",
      "['벚꽃', '소나무']\n"
     ]
    }
   ],
   "source": [
    "tree = []\n",
    "print(type(tree))\n",
    "print(tree)\n",
    "\n",
    "tree.append(\"벚꽃\")\n",
    "print(tree)\n",
    "\n",
    "tree.append(\"소나무\")\n",
    "print(tree)"
   ]
  },
  {
   "cell_type": "markdown",
   "metadata": {},
   "source": [
    "### 13. 다음 코드의 결과값을 예상하시오.\n"
   ]
  },
  {
   "cell_type": "code",
   "execution_count": 16,
   "metadata": {},
   "outputs": [
    {
     "name": "stdout",
     "output_type": "stream",
     "text": [
      "['진소윤', '한대현', '김영우', '김유진']\n",
      "['진소윤', '한대현', '김영우', '김유진']\n"
     ]
    }
   ],
   "source": [
    "names0 = ['최정명', '한대현', '김영우', '김유진']  \n",
    "names1 = names0  \n",
    "names1[0] = '진소윤'  \n",
    "print(names0)  \n",
    "print(names1)  "
   ]
  },
  {
   "cell_type": "code",
   "execution_count": null,
   "metadata": {},
   "outputs": [],
   "source": [
    "\n"
   ]
  },
  {
   "cell_type": "markdown",
   "metadata": {},
   "source": [
    "### 14. 밑의 리스트에서 이름만 출력하는 코드를 작성하시오.  \n",
    "- 슬라이싱이 아닌 인덱싱 방법으로 출력하시오\n",
    "\n",
    "names0 = [\"권채영\", \"손미르\" ,2 ,6 ,\"윤다영\", \"최민관\"]\n"
   ]
  },
  {
   "cell_type": "code",
   "execution_count": 17,
   "metadata": {},
   "outputs": [
    {
     "name": "stdout",
     "output_type": "stream",
     "text": [
      "권채영 손미르 윤다영 최민관\n"
     ]
    }
   ],
   "source": [
    "names0 = [\"권채영\", \"손미르\" ,2 ,6 ,\"윤다영\", \"최민관\"]\n",
    "print(names0[0],names0[1], names0[4], names0[5])\n",
    "# print()\n"
   ]
  },
  {
   "cell_type": "markdown",
   "metadata": {},
   "source": [
    "### 15. 가로(변수 : w)와 세로(변수 :h) 길이를 사용자에게 입력 받고 사각형의 넓이(변수 : area)를 계산하여 출력하시오.\n",
    "- 출력 예시 : 가로 3 세로 4 사각형의 넓이는 12입니다.\n",
    "- Hint 사용자에게 숫자를 입력받는 방법 >> int(input())"
   ]
  },
  {
   "cell_type": "code",
   "execution_count": 19,
   "metadata": {},
   "outputs": [],
   "source": [
    "w = int(input(\"가로 입력 >> \"))\n",
    "print(type(w))\n",
    "\n",
    "h = input(\"세로 입력 >> \")\n",
    "print(type(h))\n",
    "\n",
    "# area = w*h\n",
    "# print(\"가로{} 세로{} 사각형의 넓이는 {}입니다.\".format(w,h,area))\n",
    "\n"
   ]
  },
  {
   "cell_type": "markdown",
   "metadata": {},
   "source": [
    "### 16. 아래 코드의 출력 결과를 예상하시오.  \n"
   ]
  },
  {
   "cell_type": "code",
   "execution_count": 20,
   "metadata": {},
   "outputs": [
    {
     "name": "stdout",
     "output_type": "stream",
     "text": [
      "False\n",
      "True\n"
     ]
    }
   ],
   "source": [
    "print(3==5)          \n",
    "print(3<5)  "
   ]
  },
  {
   "cell_type": "markdown",
   "metadata": {},
   "source": [
    "### 17. 아래 코드의 출력 결과를 예상하시오.\n"
   ]
  },
  {
   "cell_type": "code",
   "execution_count": 21,
   "metadata": {},
   "outputs": [
    {
     "name": "stdout",
     "output_type": "stream",
     "text": [
      "3\n",
      "4\n"
     ]
    }
   ],
   "source": [
    "if False:\n",
    "    print(\"1\")\n",
    "    print(\"2\")\n",
    "else:\n",
    "    print(\"3\")\n",
    "\n",
    "print(\"4\")"
   ]
  },
  {
   "cell_type": "code",
   "execution_count": null,
   "metadata": {},
   "outputs": [],
   "source": [
    "\n"
   ]
  },
  {
   "cell_type": "markdown",
   "metadata": {},
   "source": [
    "### 18. 사용자에게 숫자 하나를 입력받고, 입력받은 숫자에 13을 더해 출력하는 코드를 작성하시오."
   ]
  },
  {
   "cell_type": "code",
   "execution_count": 44,
   "metadata": {},
   "outputs": [
    {
     "name": "stdout",
     "output_type": "stream",
     "text": [
      "숫자를 입력하시오 : 10\n",
      "23\n"
     ]
    }
   ],
   "source": [
    "num = int(input(\"숫자를 입력하시오 : \"))\n",
    "print(num+13)\n",
    "\n"
   ]
  },
  {
   "cell_type": "markdown",
   "metadata": {},
   "source": [
    "### 19. 사용자로부터 숫자 세개를 입력받아 가장 큰 숫자를 출력하는 코드를 작성하시오.\n",
    "ex)  \n",
    "num1 입력 : 10  \n",
    "num2 입력 : 9  \n",
    "num3 입력 : 25  \n",
    "25"
   ]
  },
  {
   "cell_type": "code",
   "execution_count": 23,
   "metadata": {},
   "outputs": [],
   "source": [
    "num1 = int(input(\"num1 입력 : \"))\n",
    "num2 = int(input(\"num2 입력 : \"))\n",
    "num3 = int(input(\"num3 입력 : \"))\n",
    "\n",
    "num_list = [num1, num2, num3]\n",
    "print(\"num_list의 타입은 {} 입니다.\".format(type(num_list)))\n",
    "print(num_list)\n",
    "\n",
    "print(max(num_list))\n",
    "print(sum(num_list))\n",
    "print(min(num_list))\n"
   ]
  },
  {
   "cell_type": "markdown",
   "metadata": {},
   "source": [
    "### 20. 사용자로부터 점수를 입력받아 해당하는 학점을 출력하는 코드를 작성하시오.\n",
    "- 점수　　　학점\n",
    "- 81~100　 : A\n",
    "- 61~80　　: B\n",
    "- 41~60　　: C\n",
    "- 21~40　　: D\n",
    "- 0~20　 　 : E  \n",
    "##### 출력 예시\n",
    "- 당신의 학점은 B 입니다."
   ]
  },
  {
   "cell_type": "code",
   "execution_count": 25,
   "metadata": {},
   "outputs": [],
   "source": [
    "score = int(input(\"점수를 입력하시오 (0~100) : \"))\n",
    "\n",
    "if score>=81:\n",
    "    grade = \"A\"\n",
    "elif score>=61 and score<81:\n",
    "    grade = \"B\"\n",
    "elif score>=41 and score<61:\n",
    "    grade = \"C\"\n",
    "elif score>=21 and score<41:\n",
    "    grade = \"D\"\n",
    "else:\n",
    "    grade = \"E\"\n",
    "\n",
    "print(\"당신의 학점은 {} 입니다.\".format(grade))"
   ]
  }
 ],
 "metadata": {
  "kernelspec": {
   "display_name": "tensorflow",
   "language": "python",
   "name": "tensorflow"
  },
  "language_info": {
   "codemirror_mode": {
    "name": "ipython",
    "version": 3
   },
   "file_extension": ".py",
   "mimetype": "text/x-python",
   "name": "python",
   "nbconvert_exporter": "python",
   "pygments_lexer": "ipython3",
   "version": "3.6.8"
  }
 },
 "nbformat": 4,
 "nbformat_minor": 2
}
