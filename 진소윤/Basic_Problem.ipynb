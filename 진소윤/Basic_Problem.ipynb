{
 "cells": [
  {
   "cell_type": "markdown",
   "metadata": {},
   "source": [
    "# 20190513 Python Mentoring\n",
    "# *<Python 확인문제 20 문항>*"
   ]
  },
  {
   "cell_type": "markdown",
   "metadata": {},
   "source": [
    "### **1. Hello World 문자열을 출력하는 코드를 작성하시오.**"
   ]
  },
  {
   "cell_type": "markdown",
   "metadata": {},
   "source": [
    "#### sss = \"Hello World\"\n",
    "print(\"Hello World\")\n"
   ]
  },
  {
   "cell_type": "code",
   "execution_count": null,
   "metadata": {},
   "outputs": [],
   "source": [
    "\n",
    "\n"
   ]
  },
  {
   "cell_type": "markdown",
   "metadata": {},
   "source": [
    "### **2. 아래 문장을 그대로 출력하는 코드를 작성하시오.(큰따옴표도 출력을 해야함)**\n",
    "- '최정명'이 말했다. \"오늘 수업은 문제를 풀거야\""
   ]
  },
  {
   "cell_type": "code",
   "execution_count": 5,
   "metadata": {},
   "outputs": [
    {
     "name": "stdout",
     "output_type": "stream",
     "text": [
      "'최정명'이 말했다. \"오늘 수업은 문제를 풀거야\" \n"
     ]
    }
   ],
   "source": [
    "String_1=\"'최정명'이 말했다. \\\"오늘 수업은 문제를 풀거야\\\" \"\n",
    "print(String_1)"
   ]
  },
  {
   "cell_type": "code",
   "execution_count": null,
   "metadata": {},
   "outputs": [],
   "source": [
    "\n"
   ]
  },
  {
   "cell_type": "markdown",
   "metadata": {},
   "source": [
    "### 3. 아래 문자열의 길이를 구하는 코드를 작성하시오.\n",
    "- sss = \"awerjweriewjrwoeiorjweior\""
   ]
  },
  {
   "cell_type": "code",
   "execution_count": 9,
   "metadata": {},
   "outputs": [
    {
     "name": "stdout",
     "output_type": "stream",
     "text": [
      "25\n"
     ]
    }
   ],
   "source": [
    "sss = \"awerjweriewjrwoeiorjweior\"\n",
    "print(len(sss))"
   ]
  },
  {
   "cell_type": "markdown",
   "metadata": {},
   "source": [
    "### 4. 밑 코드의 실행결과를 예상하시오.\n"
   ]
  },
  {
   "cell_type": "code",
   "execution_count": null,
   "metadata": {},
   "outputs": [],
   "source": [
    "a = \"1\"  \n",
    "b = \"2\"  \n",
    "print(a+b)"
   ]
  },
  {
   "cell_type": "markdown",
   "metadata": {},
   "source": [
    "### 5. 화면에 '='를 80개 출력하는 코드를 작성하시오"
   ]
  },
  {
   "cell_type": "code",
   "execution_count": 10,
   "metadata": {},
   "outputs": [
    {
     "name": "stdout",
     "output_type": "stream",
     "text": [
      "================================================================================\n"
     ]
    }
   ],
   "source": [
    "print(\"=\"*80)"
   ]
  },
  {
   "cell_type": "markdown",
   "metadata": {},
   "source": [
    "### 6. 문자열 '1004'를 정수형으로 변환하는 코드를 작성하시오.\n",
    "num='1004'"
   ]
  },
  {
   "cell_type": "code",
   "execution_count": 12,
   "metadata": {
    "scrolled": true
   },
   "outputs": [
    {
     "name": "stdout",
     "output_type": "stream",
     "text": [
      "1004\n"
     ]
    }
   ],
   "source": [
    "num='1004'\n",
    "num=int(num)\n",
    "\n",
    "print(num)\n"
   ]
  },
  {
   "cell_type": "markdown",
   "metadata": {},
   "source": [
    "### 7. 아래 코드의 실행 결과를 예상하시오(Hint 오류인지 아닌지 부터 따질것)\n"
   ]
  },
  {
   "cell_type": "code",
   "execution_count": null,
   "metadata": {},
   "outputs": [],
   "source": [
    "\n",
    "sss = 'python'  \n",
    "sss[0] = 'P'  \n",
    "print(sss)"
   ]
  },
  {
   "cell_type": "markdown",
   "metadata": {},
   "source": [
    "### 8. '닥터스트레인지', '아이언맨', '캡틴아메리카' 를 리스트에 담는 코드를 작성하시오."
   ]
  },
  {
   "cell_type": "code",
   "execution_count": 13,
   "metadata": {},
   "outputs": [
    {
     "name": "stdout",
     "output_type": "stream",
     "text": [
      "['닥터스트레인지', '아이언맨', '캡틴아메리카']\n"
     ]
    }
   ],
   "source": [
    "movies=['닥터스트레인지', '아이언맨', '캡틴아메리카']\n",
    "print(movies)\n"
   ]
  },
  {
   "cell_type": "markdown",
   "metadata": {},
   "source": [
    "### 9. 위 리스트에 '캡틴마블' 을 추가하는 코드를 작성하시오. Hint(list에는 append라는 추가할 수 있는 함수가 있다.)"
   ]
  },
  {
   "cell_type": "code",
   "execution_count": 14,
   "metadata": {},
   "outputs": [
    {
     "name": "stdout",
     "output_type": "stream",
     "text": [
      "['닥터스트레인지', '아이언맨', '캡틴아메리카', '캡틴마블']\n"
     ]
    }
   ],
   "source": [
    "movies.append(\"캡틴마블\")\n",
    "print(movies)\n",
    "\n",
    "\n"
   ]
  },
  {
   "cell_type": "markdown",
   "metadata": {},
   "source": [
    "### 10. 밑의 리스트에서 합, 최댓값, 최솟값을 출력하는 코드를 작성하시오.  \n",
    "- hint : sum(), min(), max() 함수를 이용  \n",
    "\n",
    "nums = [2,3,4,1,100,94,-5,10]"
   ]
  },
  {
   "cell_type": "code",
   "execution_count": 15,
   "metadata": {},
   "outputs": [
    {
     "name": "stdout",
     "output_type": "stream",
     "text": [
      "209\n",
      "-5\n",
      "100\n"
     ]
    }
   ],
   "source": [
    "nums = [2,3,4,1,100,94,-5,10]\n",
    "print(sum(nums))\n",
    "print(min(nums))\n",
    "print(max(nums))\n",
    "\n"
   ]
  },
  {
   "cell_type": "markdown",
   "metadata": {},
   "source": [
    "### 11. 다음 리스트에서 숫자 정보만 출력하는 코드를 작성하시오.  \n",
    "- hint : 리스트 슬라이싱  \n",
    "\n",
    "li = [\"최정명\", 1,2,3,4,5,\"파이썬\"]"
   ]
  },
  {
   "cell_type": "code",
   "execution_count": 16,
   "metadata": {},
   "outputs": [
    {
     "name": "stdout",
     "output_type": "stream",
     "text": [
      "[1, 2, 3, 4, 5]\n"
     ]
    }
   ],
   "source": [
    "li = [\"최정명\", 1,2,3,4,5,\"파이썬\"]\n",
    "print(li[1:6])\n",
    "\n"
   ]
  },
  {
   "cell_type": "markdown",
   "metadata": {},
   "source": [
    "### 12. 비어있는 리스트를 선언하는 코드를 작성하시오"
   ]
  },
  {
   "cell_type": "code",
   "execution_count": 17,
   "metadata": {},
   "outputs": [
    {
     "name": "stdout",
     "output_type": "stream",
     "text": [
      "<class 'list'>\n",
      "[]\n"
     ]
    }
   ],
   "source": [
    "tree=[]\n",
    "print(type(tree))\n",
    "print(tree)\n",
    "\n",
    "\n"
   ]
  },
  {
   "cell_type": "markdown",
   "metadata": {},
   "source": [
    "### 13. 다음 코드의 결과값을 예상하시오.\n"
   ]
  },
  {
   "cell_type": "code",
   "execution_count": 5,
   "metadata": {},
   "outputs": [],
   "source": [
    "names0 = ['최정명', '한대현', '김영우', '김유진']  \n",
    "names1 = names0  \n",
    "names1[0] = '진소윤'  \n",
    "print(names0)  \n",
    "print(names1)  "
   ]
  },
  {
   "cell_type": "markdown",
   "metadata": {},
   "source": [
    "### 14. 밑의 리스트에서 이름만 출력하는 코드를 작성하시오.  \n",
    "- 슬라이싱이 아닌 인덱싱 방법으로 출력하시오\n",
    "\n",
    "names0 = [\"권채영\", \"손미르\" ,2 ,6 ,\"윤다영\", \"최민관\"]\n"
   ]
  },
  {
   "cell_type": "code",
   "execution_count": 18,
   "metadata": {},
   "outputs": [
    {
     "name": "stdout",
     "output_type": "stream",
     "text": [
      "권채영 손미르 윤다영 최민관\n"
     ]
    }
   ],
   "source": [
    "names0 = [\"권채영\", \"손미르\" ,2 ,6 ,\"윤다영\", \"최민관\"]\n",
    "print(names0[0],names0[1],names0[4],names0[5])\n",
    "\n"
   ]
  },
  {
   "cell_type": "markdown",
   "metadata": {},
   "source": [
    "### 15. 가로(변수 : w)와 세로(변수 :h) 길이를 사용자에게 입력 받고 사각형의 넓이(변수 : area)를 계산하여 출력하시오.\n",
    "- 출력 예시 : 가로 3 세로 4 사각형의 넓이는 12입니다.\n",
    "- Hint 사용자에게 숫자를 입력받는 방법 >> int(input())"
   ]
  },
  {
   "cell_type": "code",
   "execution_count": 22,
   "metadata": {},
   "outputs": [
    {
     "name": "stdout",
     "output_type": "stream",
     "text": [
      "가로 입력>>5\n",
      "세로 입력>>4\n",
      "가로5,세로4 사각형의 넓이는 20입니다.\n"
     ]
    }
   ],
   "source": [
    "w=int(input(\"가로 입력>>\"))\n",
    "h=int(input(\"세로 입력>>\"))\n",
    "area=w*h\n",
    "print(\"가로{},세로{} 사각형의 넓이는 {}입니다.\".format(w,h,area))\n",
    "\n",
    "\n",
    "\n"
   ]
  },
  {
   "cell_type": "markdown",
   "metadata": {},
   "source": [
    "### 16. 아래 코드의 출력 결과를 예상하시오.  \n"
   ]
  },
  {
   "cell_type": "code",
   "execution_count": 6,
   "metadata": {},
   "outputs": [],
   "source": [
    "print(3==5)          \n",
    "print(3<5)  "
   ]
  },
  {
   "cell_type": "markdown",
   "metadata": {},
   "source": [
    "### 17. 아래 코드의 출력 결과를 예상하시오.\n"
   ]
  },
  {
   "cell_type": "code",
   "execution_count": 8,
   "metadata": {},
   "outputs": [],
   "source": [
    "if False:\n",
    "    print(\"1\")\n",
    "    print(\"2\")\n",
    "else:\n",
    "    print(\"3\")\n",
    "\n",
    "print(\"4\")"
   ]
  },
  {
   "cell_type": "markdown",
   "metadata": {},
   "source": [
    "### 18. 사용자에게 숫자 하나를 입력받고, 입력받은 숫자에 13을 더해 출력하는 코드를 작성하시오."
   ]
  },
  {
   "cell_type": "code",
   "execution_count": 23,
   "metadata": {},
   "outputs": [
    {
     "name": "stdout",
     "output_type": "stream",
     "text": [
      "숫자를 입력하시오: 3\n",
      "16\n"
     ]
    }
   ],
   "source": [
    "num=int(input(\"숫자를 입력하시오: \"))\n",
    "print(num+13)\n",
    "\n"
   ]
  },
  {
   "cell_type": "markdown",
   "metadata": {},
   "source": [
    "### 19. 사용자로부터 숫자 세개를 입력받아 가장 큰 숫자를 출력하는 코드를 작성하시오.\n",
    "ex)  \n",
    "num1 입력 : 10  \n",
    "num2 입력 : 9  \n",
    "num3 입력 : 25  \n",
    "25"
   ]
  },
  {
   "cell_type": "code",
   "execution_count": 24,
   "metadata": {},
   "outputs": [
    {
     "name": "stdout",
     "output_type": "stream",
     "text": [
      "num1 입력: 3\n",
      "num2 입력: 4\n",
      "num3 입력: 5\n",
      "5\n"
     ]
    }
   ],
   "source": [
    "num1=int(input(\"num1 입력: \"))\n",
    "num2=int(input(\"num2 입력: \"))\n",
    "num3=int(input(\"num3 입력: \"))\n",
    "\n",
    "print(max(num1,num2,num3))\n",
    "\n",
    "\n",
    "\n"
   ]
  },
  {
   "cell_type": "markdown",
   "metadata": {},
   "source": [
    "### 20. 사용자로부터 점수를 입력받아 해당하는 학점을 출력하는 코드를 작성하시오.\n",
    "\n",
    "점수|학점\n",
    "---|---\n",
    "81~100|A\n",
    "61~80|B\n",
    "41~60|C\n",
    "21~40|D\n",
    "0~20|E\n",
    "\n",
    "##### 출력 예시\n",
    "- 당신의 학점은 B 입니다."
   ]
  },
  {
   "cell_type": "code",
   "execution_count": null,
   "metadata": {},
   "outputs": [],
   "source": [
    "score=int(input(\"점수를 입력하시오: \"))\n",
    "\n",
    "\n",
    "\n"
   ]
  }
 ],
 "metadata": {
  "kernelspec": {
   "display_name": "Python 3",
   "language": "python",
   "name": "python3"
  },
  "language_info": {
   "codemirror_mode": {
    "name": "ipython",
    "version": 3
   },
   "file_extension": ".py",
   "mimetype": "text/x-python",
   "name": "python",
   "nbconvert_exporter": "python",
   "pygments_lexer": "ipython3",
   "version": "3.6.7"
  }
 },
 "nbformat": 4,
 "nbformat_minor": 2
}
